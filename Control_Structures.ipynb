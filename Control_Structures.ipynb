{
 "cells": [
  {
   "cell_type": "markdown",
   "id": "6d7ae978",
   "metadata": {},
   "source": [
    "1a"
   ]
  },
  {
   "cell_type": "code",
   "execution_count": 3,
   "id": "98b3113a",
   "metadata": {
    "scrolled": true
   },
   "outputs": [
    {
     "name": "stdout",
     "output_type": "stream",
     "text": [
      "What day of the week is it?monday\n",
      "Today is not Monday\n"
     ]
    }
   ],
   "source": [
    "select_day = 'Monday'\n",
    "\n",
    "user_entry = input('What day of the week is it?') \n",
    "\n",
    "if select_day == user_entry:\n",
    "    print('Today is Monday')\n",
    "else:\n",
    "    print('Today is not Monday')"
   ]
  },
  {
   "cell_type": "markdown",
   "id": "0560bfee",
   "metadata": {},
   "source": [
    "1b"
   ]
  },
  {
   "cell_type": "code",
   "execution_count": 10,
   "id": "bb441002",
   "metadata": {
    "scrolled": true
   },
   "outputs": [
    {
     "name": "stdout",
     "output_type": "stream",
     "text": [
      "What day is it: Tuesday\n",
      "It is not Wednesday or the weekend\n"
     ]
    }
   ],
   "source": [
    "day = 'Wednesday'\n",
    "weekend_day = ['Saturday', 'Sunday']\n",
    "\n",
    "user_entry = input('What day is it: ')\n",
    "\n",
    "if user_entry == day:\n",
    "    print('Today is ' + day)\n",
    "elif user_entry in weekend_day:\n",
    "    print('It is the weekend!')\n",
    "else:\n",
    "    print(f'It is not {day} or the weekend')\n"
   ]
  },
  {
   "cell_type": "markdown",
   "id": "f3d6d0d4",
   "metadata": {},
   "source": [
    "1c"
   ]
  },
  {
   "cell_type": "code",
   "execution_count": 14,
   "id": "b71ee9d2",
   "metadata": {
    "scrolled": true
   },
   "outputs": [
    {
     "name": "stdout",
     "output_type": "stream",
     "text": [
      "With Overtime\n",
      "1007.5\n"
     ]
    }
   ],
   "source": [
    "base_hours = 40\n",
    "hours_worked = 45\n",
    "over_hours = hours_worked - base_hours\n",
    "rate = 25\n",
    "over_rate = 1.5\n",
    "\n",
    "if hours_worked <= base_hours:\n",
    "    paycheck = hours_worked * rate\n",
    "    print('No Overtime')\n",
    "else:\n",
    "    paycheck = (base_hours * rate) + (over_hours * over_rate)\n",
    "    print('With Overtime')\n",
    "    \n",
    "print(paycheck)\n"
   ]
  },
  {
   "cell_type": "markdown",
   "id": "b841951a",
   "metadata": {},
   "source": [
    "2a: 5 to 15, by 5"
   ]
  },
  {
   "cell_type": "code",
   "execution_count": 16,
   "id": "f28e0b97",
   "metadata": {
    "scrolled": true
   },
   "outputs": [
    {
     "name": "stdout",
     "output_type": "stream",
     "text": [
      "5\n",
      "6\n",
      "7\n",
      "8\n",
      "9\n",
      "10\n",
      "11\n",
      "12\n",
      "13\n",
      "14\n",
      "15\n"
     ]
    }
   ],
   "source": [
    "i = 5\n",
    "\n",
    "while i <= 15:\n",
    "    print(i)\n",
    "    i += 1"
   ]
  },
  {
   "cell_type": "markdown",
   "id": "e8049045",
   "metadata": {},
   "source": [
    "2a: 2 to 100, by 2"
   ]
  },
  {
   "cell_type": "code",
   "execution_count": 17,
   "id": "fdd637a9",
   "metadata": {
    "scrolled": true
   },
   "outputs": [
    {
     "name": "stdout",
     "output_type": "stream",
     "text": [
      "2\n",
      "4\n",
      "6\n",
      "8\n",
      "10\n",
      "12\n",
      "14\n",
      "16\n",
      "18\n",
      "20\n",
      "22\n",
      "24\n",
      "26\n",
      "28\n",
      "30\n",
      "32\n",
      "34\n",
      "36\n",
      "38\n",
      "40\n",
      "42\n",
      "44\n",
      "46\n",
      "48\n",
      "50\n",
      "52\n",
      "54\n",
      "56\n",
      "58\n",
      "60\n",
      "62\n",
      "64\n",
      "66\n",
      "68\n",
      "70\n",
      "72\n",
      "74\n",
      "76\n",
      "78\n",
      "80\n",
      "82\n",
      "84\n",
      "86\n",
      "88\n",
      "90\n",
      "92\n",
      "94\n",
      "96\n",
      "98\n",
      "100\n"
     ]
    }
   ],
   "source": [
    "i = 2\n",
    "\n",
    "while i <= 100:\n",
    "    print(i)\n",
    "    i += 2"
   ]
  },
  {
   "cell_type": "markdown",
   "id": "9023607d",
   "metadata": {},
   "source": [
    "2a: 100 to -10"
   ]
  },
  {
   "cell_type": "code",
   "execution_count": 19,
   "id": "c1308544",
   "metadata": {
    "scrolled": true
   },
   "outputs": [
    {
     "name": "stdout",
     "output_type": "stream",
     "text": [
      "100\n",
      "95\n",
      "90\n",
      "85\n",
      "80\n",
      "75\n",
      "70\n",
      "65\n",
      "60\n",
      "55\n",
      "50\n",
      "45\n",
      "40\n",
      "35\n",
      "30\n",
      "25\n",
      "20\n",
      "15\n",
      "10\n",
      "5\n",
      "0\n",
      "-5\n",
      "-10\n"
     ]
    }
   ],
   "source": [
    "i = 100\n",
    "\n",
    "while i >= -10:\n",
    "    print(i)\n",
    "    i -= 5"
   ]
  },
  {
   "cell_type": "markdown",
   "id": "e8282153",
   "metadata": {},
   "source": [
    "2a: 2 to 1mil, number squared"
   ]
  },
  {
   "cell_type": "code",
   "execution_count": 40,
   "id": "325ce38c",
   "metadata": {
    "scrolled": true
   },
   "outputs": [
    {
     "name": "stdout",
     "output_type": "stream",
     "text": [
      "2\n",
      "4\n",
      "16\n",
      "256\n",
      "65536\n"
     ]
    }
   ],
   "source": [
    "i = 2\n",
    "\n",
    "while i < 1000000:\n",
    "    print(i)\n",
    "    i *= i"
   ]
  },
  {
   "cell_type": "markdown",
   "id": "78f5c1bf",
   "metadata": {},
   "source": [
    "2a: 100 to 5, by 5"
   ]
  },
  {
   "cell_type": "code",
   "execution_count": 41,
   "id": "903266a9",
   "metadata": {
    "scrolled": true
   },
   "outputs": [
    {
     "name": "stdout",
     "output_type": "stream",
     "text": [
      "100\n",
      "95\n",
      "90\n",
      "85\n",
      "80\n",
      "75\n",
      "70\n",
      "65\n",
      "60\n",
      "55\n",
      "50\n",
      "45\n",
      "40\n",
      "35\n",
      "30\n",
      "25\n",
      "20\n",
      "15\n",
      "10\n",
      "5\n"
     ]
    }
   ],
   "source": [
    "i = 100\n",
    "\n",
    "while i >= 5:\n",
    "    print(i)\n",
    "    i -= 5"
   ]
  },
  {
   "cell_type": "markdown",
   "id": "575efc02",
   "metadata": {},
   "source": [
    "2b i."
   ]
  },
  {
   "cell_type": "code",
   "execution_count": 60,
   "id": "39883042",
   "metadata": {
    "scrolled": true
   },
   "outputs": [
    {
     "name": "stdout",
     "output_type": "stream",
     "text": [
      "Number: 7\n",
      "7 x 1 = 7\n",
      "7 x 2 = 14\n",
      "7 x 3 = 21\n",
      "7 x 4 = 28\n",
      "7 x 5 = 35\n",
      "7 x 6 = 42\n",
      "7 x 7 = 49\n",
      "7 x 8 = 56\n",
      "7 x 9 = 63\n",
      "7 x 10 = 70\n"
     ]
    }
   ],
   "source": [
    "number = input('Number: ')\n",
    "i = 1\n",
    "\n",
    "for count in range(1, 11):\n",
    "    print(number, 'x', i, '=', int(number)*i)\n",
    "    i += 1"
   ]
  },
  {
   "cell_type": "markdown",
   "id": "be8ca815",
   "metadata": {},
   "source": [
    "2b ii."
   ]
  },
  {
   "cell_type": "code",
   "execution_count": 58,
   "id": "e07b1836",
   "metadata": {
    "scrolled": true
   },
   "outputs": [
    {
     "name": "stdout",
     "output_type": "stream",
     "text": [
      "1\n",
      "22\n",
      "333\n",
      "4444\n",
      "55555\n",
      "666666\n",
      "7777777\n",
      "88888888\n",
      "999999999\n"
     ]
    }
   ],
   "source": [
    "for number in range(1, 10):\n",
    "    print(str(number)*number)"
   ]
  },
  {
   "cell_type": "markdown",
   "id": "db93d961",
   "metadata": {},
   "source": [
    "2c i."
   ]
  },
  {
   "cell_type": "code",
   "execution_count": 154,
   "id": "e91198b8",
   "metadata": {
    "scrolled": true
   },
   "outputs": [
    {
     "name": "stdout",
     "output_type": "stream",
     "text": [
      "Enter an odd number between 1 and 50: 5\n",
      "Number to skip is 5\n",
      "\n",
      "1\n",
      "3\n",
      "Yikes! Skipping number 5\n",
      "7\n",
      "9\n",
      "11\n",
      "13\n",
      "15\n",
      "17\n",
      "19\n",
      "21\n",
      "23\n",
      "25\n",
      "27\n",
      "29\n",
      "31\n",
      "33\n",
      "35\n",
      "37\n",
      "39\n",
      "41\n",
      "43\n",
      "45\n",
      "47\n",
      "49\n"
     ]
    }
   ],
   "source": [
    "#CREATED VARIABLE FOR user_entry (THIS IS A STRING)\n",
    "user_entry = input('Enter an odd number between 1 and 50: ')\n",
    "\n",
    "#CREATE VARIABLE TRANSFORMING user_entry FROM STRING TO INTEGER\n",
    "# user_entry_as_number = int(user_entry)\n",
    "\n",
    "#TESTED TO MAKE SURE user_entry IS A NUMBER\n",
    "while user_entry.isdigit() != True:\n",
    "    print(f'{user_entry} is not a number')\n",
    "    user_entry = input('Enter an odd number between 1 and 50: ')\n",
    "\n",
    "#TEST TO MAKE SURE user_entry IS ODD\n",
    "while int(user_entry) % 2 == 0:\n",
    "    print(f'{user_entry} is not an add number')\n",
    "    user_entry = input('Enter an odd number between 1 and 50: ')\n",
    "\n",
    "#PRINT ODD RANGE OF NUMBERS BETWEEN 1 AND 50\n",
    "number = int(user_entry)\n",
    "print(f'Number to skip is {number}\\n')\n",
    "\n",
    "for i in range(1, 51, 2):\n",
    "    if i == number:\n",
    "        print(f'Yikes! Skipping number {number}')\n",
    "        continue\n",
    "    else:\n",
    "        print(i)\n",
    "        i += 2\n",
    "    "
   ]
  },
  {
   "cell_type": "markdown",
   "id": "d682f9a9",
   "metadata": {},
   "source": [
    "2d"
   ]
  },
  {
   "cell_type": "code",
   "execution_count": 29,
   "id": "bf72e54e",
   "metadata": {
    "scrolled": true
   },
   "outputs": [
    {
     "name": "stdout",
     "output_type": "stream",
     "text": [
      "Enter a positive number: 5\n",
      "\n",
      "0\n",
      "1\n",
      "2\n",
      "3\n",
      "4\n",
      "5\n"
     ]
    }
   ],
   "source": [
    "#prompt user to input a positive number\n",
    "user_input = input('Enter a positive number: ')\n",
    "print()\n",
    "\n",
    "#test to make sure user entered positive number\n",
    "while user_input.isdigit() != True:\n",
    "    print('Your entry is not a positive number')\n",
    "    user_input = input('Enter a positive number: ')\n",
    "    print()\n",
    "\n",
    "#create a loop that from 0 to that number\n",
    "    #the input will return a string that will need to be converted to a number\n",
    "for i in range(0, (int(user_input)+1)):\n",
    "    print(i)\n",
    "    i += 1"
   ]
  },
  {
   "cell_type": "markdown",
   "id": "d703d2c8",
   "metadata": {},
   "source": [
    "2e."
   ]
  },
  {
   "cell_type": "code",
   "execution_count": 52,
   "id": "9948a047",
   "metadata": {
    "scrolled": true
   },
   "outputs": [
    {
     "name": "stdout",
     "output_type": "stream",
     "text": [
      "Input a positive integer: a\n",
      "\n",
      "This is not a positive integer.\n",
      "Input a positive integer: -5\n",
      "\n",
      "This is not a positive integer.\n",
      "Input a positive integer: 5\n",
      "\n",
      "5\n",
      "4\n",
      "3\n",
      "2\n",
      "1\n",
      "0\n"
     ]
    }
   ],
   "source": [
    "#prompt user for a positive integer\n",
    "user_input = input('Input a positive integer: ')\n",
    "print()\n",
    "\n",
    "#check to make sure number entered is a positive integer\n",
    "while user_input.isdigit() != True:\n",
    "    print('This is not a positive integer.')\n",
    "    user_input = input('Input a positive integer: ')\n",
    "    print()\n",
    "    \n",
    "#create a loop that prints the numbers from the number the user entered down to 1\n",
    "number = (int(user_input)+1)\n",
    "for i in range(number, 0, -1):\n",
    "    print(i -1)\n",
    "    i -= 1"
   ]
  },
  {
   "cell_type": "markdown",
   "id": "b721fda4",
   "metadata": {},
   "source": [
    "# 3. Fizzbuzz"
   ]
  },
  {
   "cell_type": "markdown",
   "id": "60089fbd",
   "metadata": {},
   "source": [
    "."
   ]
  },
  {
   "cell_type": "code",
   "execution_count": 58,
   "id": "f117b2be",
   "metadata": {},
   "outputs": [
    {
     "name": "stdout",
     "output_type": "stream",
     "text": [
      "1\n",
      "2\n",
      "Fizz\n",
      "4\n",
      "Buzz\n",
      "Fizz\n",
      "7\n",
      "8\n",
      "Fizz\n",
      "Buzz\n",
      "11\n",
      "Fizz\n",
      "13\n",
      "14\n",
      "FizzBuzz\n",
      "16\n",
      "17\n",
      "Fizz\n",
      "19\n",
      "Buzz\n",
      "Fizz\n",
      "22\n",
      "23\n",
      "Fizz\n",
      "Buzz\n",
      "26\n",
      "Fizz\n",
      "28\n",
      "29\n",
      "FizzBuzz\n",
      "31\n",
      "32\n",
      "Fizz\n",
      "34\n",
      "Buzz\n",
      "Fizz\n",
      "37\n",
      "38\n",
      "Fizz\n",
      "Buzz\n",
      "41\n",
      "Fizz\n",
      "43\n",
      "44\n",
      "FizzBuzz\n",
      "46\n",
      "47\n",
      "Fizz\n",
      "49\n",
      "Buzz\n",
      "Fizz\n",
      "52\n",
      "53\n",
      "Fizz\n",
      "Buzz\n",
      "56\n",
      "Fizz\n",
      "58\n",
      "59\n",
      "FizzBuzz\n",
      "61\n",
      "62\n",
      "Fizz\n",
      "64\n",
      "Buzz\n",
      "Fizz\n",
      "67\n",
      "68\n",
      "Fizz\n",
      "Buzz\n",
      "71\n",
      "Fizz\n",
      "73\n",
      "74\n",
      "FizzBuzz\n",
      "76\n",
      "77\n",
      "Fizz\n",
      "79\n",
      "Buzz\n",
      "Fizz\n",
      "82\n",
      "83\n",
      "Fizz\n",
      "Buzz\n",
      "86\n",
      "Fizz\n",
      "88\n",
      "89\n",
      "FizzBuzz\n",
      "91\n",
      "92\n",
      "Fizz\n",
      "94\n",
      "Buzz\n",
      "Fizz\n",
      "97\n",
      "98\n",
      "Fizz\n",
      "Buzz\n"
     ]
    }
   ],
   "source": [
    "for i in range(1, 101):\n",
    "    if i % 3 == 0 and i % 5 == 0:\n",
    "        print('FizzBuzz')\n",
    "        continue\n",
    "    #for multiples of 3 print 'Fizz'\n",
    "    if i % 3 == 0:\n",
    "        print('Fizz')\n",
    "        continue\n",
    "    #for multiples of 5 print 'Buzzz'\n",
    "    if i % 5 == 0:\n",
    "        print('Buzz')\n",
    "        continue\n",
    "    print(i)\n",
    "    i += 1"
   ]
  },
  {
   "cell_type": "markdown",
   "id": "d1e1451b",
   "metadata": {},
   "source": [
    "# 4. Table of Powers"
   ]
  },
  {
   "cell_type": "code",
   "execution_count": 92,
   "id": "548d2ef2",
   "metadata": {},
   "outputs": [
    {
     "name": "stdout",
     "output_type": "stream",
     "text": [
      "Enter an integer: 3\n",
      "[1, 4, 9]\n",
      "[1, 8, 27]\n"
     ]
    },
    {
     "data": {
      "text/html": [
       "<div>\n",
       "<style scoped>\n",
       "    .dataframe tbody tr th:only-of-type {\n",
       "        vertical-align: middle;\n",
       "    }\n",
       "\n",
       "    .dataframe tbody tr th {\n",
       "        vertical-align: top;\n",
       "    }\n",
       "\n",
       "    .dataframe thead th {\n",
       "        text-align: right;\n",
       "    }\n",
       "</style>\n",
       "<table border=\"1\" class=\"dataframe\">\n",
       "  <thead>\n",
       "    <tr style=\"text-align: right;\">\n",
       "      <th></th>\n",
       "      <th>1</th>\n",
       "      <th>8</th>\n",
       "      <th>27</th>\n",
       "    </tr>\n",
       "  </thead>\n",
       "  <tbody>\n",
       "    <tr>\n",
       "      <th>1</th>\n",
       "      <td>3</td>\n",
       "      <td>3</td>\n",
       "      <td>3</td>\n",
       "    </tr>\n",
       "    <tr>\n",
       "      <th>4</th>\n",
       "      <td>3</td>\n",
       "      <td>3</td>\n",
       "      <td>3</td>\n",
       "    </tr>\n",
       "    <tr>\n",
       "      <th>9</th>\n",
       "      <td>3</td>\n",
       "      <td>3</td>\n",
       "      <td>3</td>\n",
       "    </tr>\n",
       "  </tbody>\n",
       "</table>\n",
       "</div>"
      ],
      "text/plain": [
       "  1  8  27\n",
       "1  3  3  3\n",
       "4  3  3  3\n",
       "9  3  3  3"
      ]
     },
     "execution_count": 92,
     "metadata": {},
     "output_type": "execute_result"
    }
   ],
   "source": [
    "#prompt user to enter an integer\n",
    "\n",
    "user_input = input('Enter an integer: ')\n",
    "\n",
    "#display a table of squares and cubes from 1 to the user_input\n",
    "    #create squares_list using for loop to return squares from 1 to the user_input\n",
    "squares_list = []\n",
    "for i in range(1, (int(user_input) + 1)):\n",
    "    squares_list.append(i**2)\n",
    "    i += 1\n",
    "print(squares_list)\n",
    "    \n",
    "\n",
    "    #create cubes_list using for loop to return cubes from 1 to user_input\n",
    "cubes_list = []\n",
    "for i in range(1, (int(user_input) + 1)):\n",
    "    cubes_list.append(i**3)\n",
    "    i += 1\n",
    "print(cubes_list)\n",
    "    \n",
    "    #format into a table (need to switch row/column headers and table data)\n",
    "import pandas \n",
    "pandas.DataFrame(user_input, squares_list, cubes_list)"
   ]
  },
  {
   "cell_type": "markdown",
   "id": "afd66b60",
   "metadata": {},
   "source": [
    "# 5. Converting Number Grades into Letter Grades"
   ]
  },
  {
   "cell_type": "markdown",
   "id": "0888d85b",
   "metadata": {},
   "source": [
    "(could not get the loop to continue after 2nd continue)"
   ]
  },
  {
   "cell_type": "code",
   "execution_count": null,
   "id": "29dd3705",
   "metadata": {},
   "outputs": [
    {
     "name": "stdout",
     "output_type": "stream",
     "text": [
      "Enter the numerical grade: 100\n",
      "A\n",
      "Continue? yes\n",
      "Enter the numerical grade: 100\n",
      "A\n"
     ]
    }
   ],
   "source": [
    "#prompt user for numerical grade from 0 to 100\n",
    "user_input = input('Enter the numerical grade: ')\n",
    "\n",
    "#convert input from str to int type\n",
    "num_grade = int(user_input)\n",
    "\n",
    "#display corresponding letter grade\n",
    "for i in range(0, 101):\n",
    "    if num_grade <= 100 and num_grade >= 88:\n",
    "        print('A')\n",
    "        break\n",
    "    if num_grade <= 87 and num_grade >= 80:\n",
    "        print('B')\n",
    "        break\n",
    "    if num_grade <= 79 and num_grade >= 67:\n",
    "        print('C')\n",
    "        break\n",
    "    if num_grade <= 66 and num_grade >= 60:\n",
    "        print('D')\n",
    "        break\n",
    "    if num_grade <= 59 and num_grade >= 0:\n",
    "        print('F')\n",
    "        break\n",
    "\n",
    "    \n",
    "#prompt user to continue\n",
    "user_cont = input('Continue? ')\n",
    "while user_cont == 'yes':\n",
    "    user_input = input('Enter the numerical grade: ')\n",
    "    for i in range(0, 101):\n",
    "        if num_grade <= 100 and num_grade >= 88:\n",
    "            print('A')\n",
    "            user_cont = input('Continue? ')\n",
    "        \n",
    "\n",
    "while user_cont == 'no':\n",
    "    print('Have a nice day :)')\n",
    "    break\n",
    "\n",
    "#prompt user to continue (application should only continue if user agrees to)"
   ]
  },
  {
   "cell_type": "code",
   "execution_count": null,
   "id": "e7ec9fa3",
   "metadata": {},
   "outputs": [],
   "source": []
  },
  {
   "cell_type": "code",
   "execution_count": null,
   "id": "b803f873",
   "metadata": {},
   "outputs": [],
   "source": []
  }
 ],
 "metadata": {
  "kernelspec": {
   "display_name": "Python 3",
   "language": "python",
   "name": "python3"
  },
  "language_info": {
   "codemirror_mode": {
    "name": "ipython",
    "version": 3
   },
   "file_extension": ".py",
   "mimetype": "text/x-python",
   "name": "python",
   "nbconvert_exporter": "python",
   "pygments_lexer": "ipython3",
   "version": "3.8.8"
  }
 },
 "nbformat": 4,
 "nbformat_minor": 5
}
