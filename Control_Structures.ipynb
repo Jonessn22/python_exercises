{
 "cells": [
  {
   "cell_type": "markdown",
   "id": "6d7ae978",
   "metadata": {},
   "source": [
    "1a"
   ]
  },
  {
   "cell_type": "code",
   "execution_count": 3,
   "id": "98b3113a",
   "metadata": {},
   "outputs": [
    {
     "name": "stdout",
     "output_type": "stream",
     "text": [
      "What day of the week is it?monday\n",
      "Today is not Monday\n"
     ]
    }
   ],
   "source": [
    "select_day = 'Monday'\n",
    "\n",
    "user_entry = input('What day of the week is it?') \n",
    "\n",
    "if select_day == user_entry:\n",
    "    print('Today is Monday')\n",
    "else:\n",
    "    print('Today is not Monday')"
   ]
  },
  {
   "cell_type": "markdown",
   "id": "0560bfee",
   "metadata": {},
   "source": [
    "1b"
   ]
  },
  {
   "cell_type": "code",
   "execution_count": 10,
   "id": "bb441002",
   "metadata": {},
   "outputs": [
    {
     "name": "stdout",
     "output_type": "stream",
     "text": [
      "What day is it: Tuesday\n",
      "It is not Wednesday or the weekend\n"
     ]
    }
   ],
   "source": [
    "day = 'Wednesday'\n",
    "weekend_day = ['Saturday', 'Sunday']\n",
    "\n",
    "user_entry = input('What day is it: ')\n",
    "\n",
    "if user_entry == day:\n",
    "    print('Today is ' + day)\n",
    "elif user_entry in weekend_day:\n",
    "    print('It is the weekend!')\n",
    "else:\n",
    "    print(f'It is not {day} or the weekend')\n"
   ]
  },
  {
   "cell_type": "markdown",
   "id": "f3d6d0d4",
   "metadata": {},
   "source": [
    "1c"
   ]
  },
  {
   "cell_type": "code",
   "execution_count": 14,
   "id": "b71ee9d2",
   "metadata": {},
   "outputs": [
    {
     "name": "stdout",
     "output_type": "stream",
     "text": [
      "With Overtime\n",
      "1007.5\n"
     ]
    }
   ],
   "source": [
    "base_hours = 40\n",
    "hours_worked = 45\n",
    "over_hours = hours_worked - base_hours\n",
    "rate = 25\n",
    "over_rate = 1.5\n",
    "\n",
    "if hours_worked <= base_hours:\n",
    "    paycheck = hours_worked * rate\n",
    "    print('No Overtime')\n",
    "else:\n",
    "    paycheck = (base_hours * rate) + (over_hours * over_rate)\n",
    "    print('With Overtime')\n",
    "    \n",
    "print(paycheck)\n"
   ]
  },
  {
   "cell_type": "markdown",
   "id": "b841951a",
   "metadata": {},
   "source": [
    "2a: 5 to 15, by 5"
   ]
  },
  {
   "cell_type": "code",
   "execution_count": 16,
   "id": "f28e0b97",
   "metadata": {},
   "outputs": [
    {
     "name": "stdout",
     "output_type": "stream",
     "text": [
      "5\n",
      "6\n",
      "7\n",
      "8\n",
      "9\n",
      "10\n",
      "11\n",
      "12\n",
      "13\n",
      "14\n",
      "15\n"
     ]
    }
   ],
   "source": [
    "i = 5\n",
    "\n",
    "while i <= 15:\n",
    "    print(i)\n",
    "    i += 1"
   ]
  },
  {
   "cell_type": "markdown",
   "id": "e8049045",
   "metadata": {},
   "source": [
    "2a: 2 to 100, by 2"
   ]
  },
  {
   "cell_type": "code",
   "execution_count": 17,
   "id": "fdd637a9",
   "metadata": {},
   "outputs": [
    {
     "name": "stdout",
     "output_type": "stream",
     "text": [
      "2\n",
      "4\n",
      "6\n",
      "8\n",
      "10\n",
      "12\n",
      "14\n",
      "16\n",
      "18\n",
      "20\n",
      "22\n",
      "24\n",
      "26\n",
      "28\n",
      "30\n",
      "32\n",
      "34\n",
      "36\n",
      "38\n",
      "40\n",
      "42\n",
      "44\n",
      "46\n",
      "48\n",
      "50\n",
      "52\n",
      "54\n",
      "56\n",
      "58\n",
      "60\n",
      "62\n",
      "64\n",
      "66\n",
      "68\n",
      "70\n",
      "72\n",
      "74\n",
      "76\n",
      "78\n",
      "80\n",
      "82\n",
      "84\n",
      "86\n",
      "88\n",
      "90\n",
      "92\n",
      "94\n",
      "96\n",
      "98\n",
      "100\n"
     ]
    }
   ],
   "source": [
    "i = 2\n",
    "\n",
    "while i <= 100:\n",
    "    print(i)\n",
    "    i += 2"
   ]
  },
  {
   "cell_type": "markdown",
   "id": "9023607d",
   "metadata": {},
   "source": [
    "2a: 100 to -10"
   ]
  },
  {
   "cell_type": "code",
   "execution_count": 19,
   "id": "c1308544",
   "metadata": {},
   "outputs": [
    {
     "name": "stdout",
     "output_type": "stream",
     "text": [
      "100\n",
      "95\n",
      "90\n",
      "85\n",
      "80\n",
      "75\n",
      "70\n",
      "65\n",
      "60\n",
      "55\n",
      "50\n",
      "45\n",
      "40\n",
      "35\n",
      "30\n",
      "25\n",
      "20\n",
      "15\n",
      "10\n",
      "5\n",
      "0\n",
      "-5\n",
      "-10\n"
     ]
    }
   ],
   "source": [
    "i = 100\n",
    "\n",
    "while i >= -10:\n",
    "    print(i)\n",
    "    i -= 5"
   ]
  },
  {
   "cell_type": "markdown",
   "id": "e8282153",
   "metadata": {},
   "source": [
    "2a: 2 to 1mil, number squared"
   ]
  },
  {
   "cell_type": "code",
   "execution_count": 40,
   "id": "325ce38c",
   "metadata": {},
   "outputs": [
    {
     "name": "stdout",
     "output_type": "stream",
     "text": [
      "2\n",
      "4\n",
      "16\n",
      "256\n",
      "65536\n"
     ]
    }
   ],
   "source": [
    "i = 2\n",
    "\n",
    "while i < 1000000:\n",
    "    print(i)\n",
    "    i *= i"
   ]
  },
  {
   "cell_type": "markdown",
   "id": "78f5c1bf",
   "metadata": {},
   "source": [
    "2a: 100 to 5, by 5"
   ]
  },
  {
   "cell_type": "code",
   "execution_count": 41,
   "id": "903266a9",
   "metadata": {},
   "outputs": [
    {
     "name": "stdout",
     "output_type": "stream",
     "text": [
      "100\n",
      "95\n",
      "90\n",
      "85\n",
      "80\n",
      "75\n",
      "70\n",
      "65\n",
      "60\n",
      "55\n",
      "50\n",
      "45\n",
      "40\n",
      "35\n",
      "30\n",
      "25\n",
      "20\n",
      "15\n",
      "10\n",
      "5\n"
     ]
    }
   ],
   "source": [
    "i = 100\n",
    "\n",
    "while i >= 5:\n",
    "    print(i)\n",
    "    i -= 5"
   ]
  },
  {
   "cell_type": "markdown",
   "id": "575efc02",
   "metadata": {},
   "source": [
    "2b i."
   ]
  },
  {
   "cell_type": "code",
   "execution_count": 60,
   "id": "39883042",
   "metadata": {},
   "outputs": [
    {
     "name": "stdout",
     "output_type": "stream",
     "text": [
      "Number: 7\n",
      "7 x 1 = 7\n",
      "7 x 2 = 14\n",
      "7 x 3 = 21\n",
      "7 x 4 = 28\n",
      "7 x 5 = 35\n",
      "7 x 6 = 42\n",
      "7 x 7 = 49\n",
      "7 x 8 = 56\n",
      "7 x 9 = 63\n",
      "7 x 10 = 70\n"
     ]
    }
   ],
   "source": [
    "number = input('Number: ')\n",
    "i = 1\n",
    "\n",
    "for count in range(1, 11):\n",
    "    print(number, 'x', i, '=', int(number)*i)\n",
    "    i += 1"
   ]
  },
  {
   "cell_type": "markdown",
   "id": "be8ca815",
   "metadata": {},
   "source": [
    "2b ii."
   ]
  },
  {
   "cell_type": "code",
   "execution_count": 58,
   "id": "e07b1836",
   "metadata": {},
   "outputs": [
    {
     "name": "stdout",
     "output_type": "stream",
     "text": [
      "1\n",
      "22\n",
      "333\n",
      "4444\n",
      "55555\n",
      "666666\n",
      "7777777\n",
      "88888888\n",
      "999999999\n"
     ]
    }
   ],
   "source": [
    "for number in range(1, 10):\n",
    "    print(str(number)*number)"
   ]
  },
  {
   "cell_type": "markdown",
   "id": "db93d961",
   "metadata": {},
   "source": [
    "2b iii."
   ]
  },
  {
   "cell_type": "code",
   "execution_count": 154,
   "id": "e91198b8",
   "metadata": {},
   "outputs": [
    {
     "name": "stdout",
     "output_type": "stream",
     "text": [
      "Enter an odd number between 1 and 50: 5\n",
      "Number to skip is 5\n",
      "\n",
      "1\n",
      "3\n",
      "Yikes! Skipping number 5\n",
      "7\n",
      "9\n",
      "11\n",
      "13\n",
      "15\n",
      "17\n",
      "19\n",
      "21\n",
      "23\n",
      "25\n",
      "27\n",
      "29\n",
      "31\n",
      "33\n",
      "35\n",
      "37\n",
      "39\n",
      "41\n",
      "43\n",
      "45\n",
      "47\n",
      "49\n"
     ]
    }
   ],
   "source": [
    "#CREATED VARIABLE FOR user_entry (THIS IS A STRING)\n",
    "user_entry = input('Enter an odd number between 1 and 50: ')\n",
    "\n",
    "#CREATE VARIABLE TRANSFORMING user_entry FROM STRING TO INTEGER\n",
    "# user_entry_as_number = int(user_entry)\n",
    "\n",
    "#TESTED TO MAKE SURE user_entry IS A NUMBER\n",
    "while user_entry.isdigit() != True:\n",
    "    print(f'{user_entry} is not a number')\n",
    "    user_entry = input('Enter an odd number between 1 and 50: ')\n",
    "\n",
    "#TEST TO MAKE SURE user_entry IS ODD\n",
    "while int(user_entry) % 2 == 0:\n",
    "    print(f'{user_entry} is not an add number')\n",
    "    user_entry = input('Enter an odd number between 1 and 50: ')\n",
    "\n",
    "#PRINT ODD RANGE OF NUMBERS BETWEEN 1 AND 50\n",
    "number = int(user_entry)\n",
    "print(f'Number to skip is {number}\\n')\n",
    "\n",
    "for i in range(1, 51, 2):\n",
    "    if i == number:\n",
    "        print(f'Yikes! Skipping number {number}')\n",
    "        continue\n",
    "    else:\n",
    "        print(i)\n",
    "        i += 2\n",
    "    "
   ]
  },
  {
   "cell_type": "code",
   "execution_count": null,
   "id": "d6181c1d",
   "metadata": {},
   "outputs": [],
   "source": []
  },
  {
   "cell_type": "code",
   "execution_count": null,
   "id": "bf72e54e",
   "metadata": {},
   "outputs": [],
   "source": []
  }
 ],
 "metadata": {
  "kernelspec": {
   "display_name": "Python 3",
   "language": "python",
   "name": "python3"
  },
  "language_info": {
   "codemirror_mode": {
    "name": "ipython",
    "version": 3
   },
   "file_extension": ".py",
   "mimetype": "text/x-python",
   "name": "python",
   "nbconvert_exporter": "python",
   "pygments_lexer": "ipython3",
   "version": "3.8.8"
  }
 },
 "nbformat": 4,
 "nbformat_minor": 5
}
