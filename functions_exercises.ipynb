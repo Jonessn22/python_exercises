{
 "cells": [
  {
   "cell_type": "markdown",
   "id": "5761c936",
   "metadata": {},
   "source": [
    "# 1.\n",
    "### Define a function named is_two. It should accept one input and return True if the passed input is either the number or the string 2, False otherwise."
   ]
  },
  {
   "cell_type": "code",
   "execution_count": 164,
   "id": "47f7e42d",
   "metadata": {},
   "outputs": [
    {
     "name": "stdout",
     "output_type": "stream",
     "text": [
      "<class 'bool'>\n",
      "True\n",
      "False\n"
     ]
    }
   ],
   "source": [
    "def is_two(x):\n",
    "    #when the parameter variable x is passed to function is_two\n",
    "    #we use a conditional to see if x is in the list with the specified results \n",
    "    # of the int value 2 or the string value 'two'\n",
    "    if x in ['two', 2]:\n",
    "        #if the conditional is met we return the bool value True, if it is not met we return False\n",
    "        return True\n",
    "    else:\n",
    "        return False\n",
    "\n",
    "print(type(is_two(2)))\n",
    "print(is_two('two'))\n",
    "print(is_two('random'))"
   ]
  },
  {
   "cell_type": "markdown",
   "id": "11bb2bd1",
   "metadata": {},
   "source": [
    "# 2.\n",
    "### Define a function named is_vowel. It should return True if the passed string is a vowel, False otherwise."
   ]
  },
  {
   "cell_type": "code",
   "execution_count": 168,
   "id": "46ef43a5",
   "metadata": {},
   "outputs": [
    {
     "name": "stdout",
     "output_type": "stream",
     "text": [
      "False\n",
      "True\n",
      "True\n"
     ]
    }
   ],
   "source": [
    "def is_vowel(string):\n",
    "    #using the .lower() method to lowercase all characters that will be passed through the parameter string \n",
    "    #create a conditional to test if the specified vowel values are in the parameter string\n",
    "        if string.lower() in 'aeiou':\n",
    "            return True\n",
    "        else:\n",
    "            return False\n",
    "\n",
    "print(is_vowel('BBB'))\n",
    "print(is_vowel('aeiou'))\n",
    "print(is_vowel('A'))"
   ]
  },
  {
   "cell_type": "markdown",
   "id": "7afae45c",
   "metadata": {},
   "source": [
    "# 3.\n",
    "### Define a function named is_consonant. It should return True if the passed string is a consonant, False otherwise. Use your is_vowel function to accomplish this."
   ]
  },
  {
   "cell_type": "code",
   "execution_count": 174,
   "id": "48570dfe",
   "metadata": {},
   "outputs": [
    {
     "name": "stdout",
     "output_type": "stream",
     "text": [
      "True\n",
      "False\n"
     ]
    }
   ],
   "source": [
    "def is_consonant(string):\n",
    "    #using the .lower() method to lowercase all characters that will be passed through the parameter string \n",
    "    #create a conditional to test if the specified consonant values are in the parameter string\n",
    "    string = string.lower()\n",
    "    return not is_vowel(string)\n",
    "\n",
    "print(is_consonant('asdjas'))\n",
    "print(is_consonant('a'))\n",
    "                "
   ]
  },
  {
   "cell_type": "markdown",
   "id": "b71d926a",
   "metadata": {},
   "source": [
    "# 4.\n",
    "### Define a function that accepts a string that is a word. The function should capitalize the first letter of the word if the word starts with a consonant."
   ]
  },
  {
   "cell_type": "code",
   "execution_count": 153,
   "id": "6170c2dd",
   "metadata": {},
   "outputs": [
    {
     "name": "stdout",
     "output_type": "stream",
     "text": [
      "Word\n",
      "Word\n",
      "all\n"
     ]
    }
   ],
   "source": [
    "def capitalize(string):\n",
    "    #takes the variable parameter string and lowercases all its letters using the .lower() method\n",
    "    #uses conditional statement to check to see if consonant is at index 0 of the parameter string\n",
    "    if string[0].lower() in 'bcdfghjklmnpqrstvwxyz':\n",
    "        return string.capitalize()\n",
    "    else: \n",
    "        return string\n",
    "\n",
    "print(capitalize('word'))\n",
    "print(capitalize('WORd'))\n",
    "print(capitalize('all'))"
   ]
  },
  {
   "cell_type": "markdown",
   "id": "80e42ee5",
   "metadata": {},
   "source": [
    "# 5.\n",
    "### Define a function named calculate_tip. It should accept a tip percentage (a number between 0 and 1) and the bill total, and return the amount to tip."
   ]
  },
  {
   "cell_type": "code",
   "execution_count": 45,
   "id": "9b6a8074",
   "metadata": {},
   "outputs": [
    {
     "data": {
      "text/plain": [
       "2.0"
      ]
     },
     "execution_count": 45,
     "metadata": {},
     "output_type": "execute_result"
    }
   ],
   "source": [
    "def tip_amt(tip_p, bill):\n",
    "    #uses a conditional statement to test whether the function parameter tip_p (tip%) is between 0 and 1\n",
    "    #if it is returns the product of the function parameters, tip_p and bill (amount of the bill)\n",
    "    if 0 <= tip_p <= 1:\n",
    "        return tip_p * bill\n",
    "    else:\n",
    "        return 'tip_p must be between 0 and 1 - Try again!'\n",
    "\n",
    "tip_amt(.2, 10)"
   ]
  },
  {
   "cell_type": "markdown",
   "id": "fb95e327",
   "metadata": {},
   "source": [
    "# 6.\n",
    "### Define a function named apply_discount. It should accept a original price, and a discount percentage, and return the price after the discount is applied."
   ]
  },
  {
   "cell_type": "code",
   "execution_count": 49,
   "id": "9c71cd9f",
   "metadata": {},
   "outputs": [
    {
     "data": {
      "text/plain": [
       "9.0"
      ]
     },
     "execution_count": 49,
     "metadata": {},
     "output_type": "execute_result"
    }
   ],
   "source": [
    "def discount(price, percent):\n",
    "    #takes the function parameter price and subtracts the product of the percent and tip parameters\n",
    "    #returns the discount price\n",
    "    return price - (price * percent)\n",
    "\n",
    "discount(10, .1)"
   ]
  },
  {
   "cell_type": "markdown",
   "id": "e913273b",
   "metadata": {},
   "source": [
    "# 7.\n",
    "### Define a function named handle_commas. It should accept a string that is a number that contains commas in it as input, and return a number as output."
   ]
  },
  {
   "cell_type": "code",
   "execution_count": 155,
   "id": "c718c08c",
   "metadata": {},
   "outputs": [
    {
     "name": "stdout",
     "output_type": "stream",
     "text": [
      "2000\n",
      "<class 'int'>\n"
     ]
    }
   ],
   "source": [
    "def handle_commas(string):\n",
    "    #takes the function parameter string and uses the .replace() method to remove all commas in an integer\n",
    "    #the .replace parameters looks for commas (first parameter) and replaces them with an empty string\n",
    "    return int(string.replace(',', ''))\n",
    "\n",
    "print(handle_commas('2,00,0'))\n",
    "print(type(handle_commas('2,000')))"
   ]
  },
  {
   "cell_type": "markdown",
   "id": "39671777",
   "metadata": {},
   "source": [
    "# 8.\n",
    "### Define a function named get_letter_grade. It should accept a number and return the letter grade associated with that number (A-F)."
   ]
  },
  {
   "cell_type": "code",
   "execution_count": 157,
   "id": "bc324749",
   "metadata": {
    "scrolled": true
   },
   "outputs": [
    {
     "name": "stdout",
     "output_type": "stream",
     "text": [
      "A\n",
      "B\n",
      "C\n",
      "D\n",
      "F\n"
     ]
    }
   ],
   "source": [
    "def get_letter_grade(num_grade):\n",
    "    #takes the num_grade parameter and uses conditional statements to evaluate what letter grade to return\n",
    "    #when the num_grade argument is entered below it will run the function\n",
    "    if num_grade > 89:\n",
    "        return 'A'\n",
    "    elif num_grade > 79:\n",
    "        return 'B'\n",
    "    elif num_grade > 69:\n",
    "        return 'C'\n",
    "    elif num_grade > 59:\n",
    "        return 'D'\n",
    "    else:\n",
    "        return 'F'\n",
    "    \n",
    "    \n",
    "print(get_letter_grade(92))\n",
    "print(get_letter_grade(84))\n",
    "print(get_letter_grade(79))\n",
    "print(get_letter_grade(65))\n",
    "print(get_letter_grade(12))"
   ]
  },
  {
   "cell_type": "markdown",
   "id": "dc9c3b25",
   "metadata": {},
   "source": [
    "# 9. \n",
    "### Define a function named remove_vowels that accepts a string and returns a string with all the vowels removed."
   ]
  },
  {
   "cell_type": "code",
   "execution_count": 159,
   "id": "504747ad",
   "metadata": {},
   "outputs": [
    {
     "name": "stdout",
     "output_type": "stream",
     "text": [
      "Hppy\n"
     ]
    }
   ],
   "source": [
    "def remove_vowels(string):\n",
    "    #takes the string paramter and lowercases it using the .lower() method\n",
    "    string = string.lower()\n",
    "    \n",
    "    #creates a for loop and looks for vowels in a string to place with an empty space, returning the string\n",
    "    for char in \"aeiou\":\n",
    "        string = string.replace(char,'')\n",
    "    return string\n",
    "\n",
    "print(anti_vowel(\"HappIEAOy\"))"
   ]
  },
  {
   "cell_type": "markdown",
   "id": "4aed1d29",
   "metadata": {},
   "source": [
    "# 10.\n",
    "### Define a function named normalize_name. It should accept a string and return a valid python identifier, that is:\n",
    "- anything that is not a valid python identifier should be removed\n",
    "- leading and trailing whitespace should be removed\n",
    "- everything should be lowercase\n",
    "- spaces should be replaced with underscores\n",
    "\n",
    "### For example:\n",
    "- Name will become name\n",
    "- First Name will become first_name\n",
    "- % Completed will become completed"
   ]
  },
  {
   "cell_type": "code",
   "execution_count": 162,
   "id": "e0b60900",
   "metadata": {},
   "outputs": [
    {
     "data": {
      "text/plain": [
       "'here_is_same'"
      ]
     },
     "execution_count": 162,
     "metadata": {},
     "output_type": "execute_result"
    }
   ],
   "source": [
    "def normalize_name(string):\n",
    "    #takes the string parameter and uses the .lower() method to lowercase all characters in the string\n",
    "    string = string.lower()\n",
    "    \n",
    "    #takes the lowercased string and strips the empty spaces from the beg and end using the .strip() method\n",
    "    string = string.strip()\n",
    "    \n",
    "    #takes the lowercased, stripped string and replaces the spaces with '_' character\n",
    "    string = string.replace(' ', '_')\n",
    "    \n",
    "    #uses the not operator to test whether the string at index 0 is an alphabet character using the .isalpha() method\n",
    "    #the loop will run and update the string to reflect the string, the character at the next index to the end of the string\n",
    "    #the loop will stop running at the first alphabet character\n",
    "    while not string[0].isalpha():\n",
    "        string = string[1:] \n",
    "    \n",
    "    #returns the lowercased and stripped version of the argument passed through the function\n",
    "    #with the empty spaces inside the string replaced by _ character, removing the non-alphabet characters at the beg of the string\n",
    "    return string\n",
    "\n",
    "normalize_name('     @*&       here is same   ')\n",
    "        "
   ]
  },
  {
   "cell_type": "markdown",
   "id": "e7055caa",
   "metadata": {},
   "source": [
    "# 11.\n",
    "### Write a function named cumulative_sum that accepts a list of numbers and returns a list that is the cumulative sum of the numbers in the list.\n",
    "- cumulative_sum([1, 1, 1]) returns [1, 2, 3]\n",
    "- cumulative_sum([1, 2, 3, 4]) returns [1, 3, 6, 10]"
   ]
  },
  {
   "cell_type": "code",
   "execution_count": 145,
   "id": "c6c4d6bf",
   "metadata": {},
   "outputs": [
    {
     "data": {
      "text/plain": [
       "[1, 2, 3]"
      ]
     },
     "execution_count": 145,
     "metadata": {},
     "output_type": "execute_result"
    }
   ],
   "source": [
    "#define the function with the parameter variable = no_list\n",
    "def cumulative_sum(list):\n",
    "    #initalizing an empty list\n",
    "    sum_list = []\n",
    "    \n",
    "    #setting a counting variable = to the first index number of 0\n",
    "    i = 0\n",
    "    \n",
    "    #creating a for loop and using the range() function, starting at 0 and stopping at the length of the list \n",
    "    #(using the len() function) to update\n",
    "    for count in range(0, len(list)):\n",
    "        i = i + list[count]\n",
    "        sum_list.append(i)\n",
    "    return sum_list\n",
    "\n",
    "cumulative_sum([1, 1, 1])"
   ]
  },
  {
   "cell_type": "code",
   "execution_count": null,
   "id": "0c704a8d",
   "metadata": {},
   "outputs": [],
   "source": []
  },
  {
   "cell_type": "code",
   "execution_count": null,
   "id": "60b0e4f5",
   "metadata": {},
   "outputs": [],
   "source": []
  }
 ],
 "metadata": {
  "kernelspec": {
   "display_name": "Python 3",
   "language": "python",
   "name": "python3"
  },
  "language_info": {
   "codemirror_mode": {
    "name": "ipython",
    "version": 3
   },
   "file_extension": ".py",
   "mimetype": "text/x-python",
   "name": "python",
   "nbconvert_exporter": "python",
   "pygments_lexer": "ipython3",
   "version": "3.8.8"
  }
 },
 "nbformat": 4,
 "nbformat_minor": 5
}
